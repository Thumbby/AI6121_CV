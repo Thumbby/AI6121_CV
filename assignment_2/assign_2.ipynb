{
 "cells": [
  {
   "cell_type": "code",
   "execution_count": 1,
   "metadata": {},
   "outputs": [],
   "source": [
    "import cv2\n",
    "import numpy as np\n",
    "import matplotlib.pyplot as plt"
   ]
  },
  {
   "cell_type": "code",
   "execution_count": 2,
   "metadata": {},
   "outputs": [],
   "source": [
    "def detect_features(img1, img2, mask=False, detector='SIFT'):\n",
    "\n",
    "    gray1 = cv2.cvtColor(img1, cv2.COLOR_BGR2GRAY)\n",
    "    gray2 = cv2.cvtColor(img2, cv2.COLOR_BGR2GRAY)\n",
    "\n",
    "    # Compute Mask\n",
    "    if mask:\n",
    "        # Harris Corner Detector\n",
    "        harris_parameters = dict(\n",
    "            blockSize=2,\n",
    "            ksize=3,\n",
    "            k=0.04\n",
    "        )\n",
    "\n",
    "        corners1 = cv2.cornerHarris(gray1, **harris_parameters)\n",
    "        corners2 = cv2.cornerHarris(gray2, **harris_parameters)\n",
    "\n",
    "        # Perform non-maximal suppression on the corners\n",
    "        threshold = 0.01 * corners1.max()\n",
    "        corner_mask1 = (corners1 > threshold).astype(np.uint8)\n",
    "        corner_mask2 = (corners2 > threshold).astype(np.uint8)\n",
    "    else:\n",
    "        corner_mask1, corner_mask2 = None, None\n",
    "\n",
    "    # Feature Detection and Matching\n",
    "    sift = cv2.SIFT_create()\n",
    "    \n",
    "    if detector=='SIFT':\n",
    "        keypoints1, descriptors1 = sift.detectAndCompute(gray1, corner_mask1)\n",
    "        keypoints2, descriptors2 = sift.detectAndCompute(gray2, corner_mask2)\n",
    "        \n",
    "    elif detector=='ORB':\n",
    "        orb = cv2.ORB_create()\n",
    "        keypoints1 = orb.detect(gray1, corner_mask1)\n",
    "        keypoints2 = orb.detect(gray2, corner_mask1)\n",
    "\n",
    "        keypoints1, descriptors1 = sift.compute(gray1, keypoints1, corner_mask1)\n",
    "        keypoints2, descriptors2 = sift.compute(gray2, keypoints2, corner_mask1)\n",
    "    \n",
    "    else:\n",
    "        print(\"detector not implemented!\")\n",
    "        exit()\n",
    "\n",
    "    return keypoints1, keypoints2, descriptors1, descriptors2\n"
   ]
  },
  {
   "cell_type": "code",
   "execution_count": 12,
   "metadata": {},
   "outputs": [],
   "source": [
    "def match_features(descriptors1, descriptors2, threshold=0.5):\n",
    "\n",
    "    # Feature Matching\n",
    "    bf = cv2.BFMatcher()\n",
    "    matches = bf.knnMatch(descriptors1, descriptors2, k=2)\n",
    "\n",
    "    # define the minimum count of matches\n",
    "    # MIN_MATCH_COUNT = 10\n",
    "    \n",
    "    # Apply Lowe's ratio test to select good matches\n",
    "    good_matches = []\n",
    "    for m, n in matches:\n",
    "        if m.distance < threshold * n.distance:\n",
    "            good_matches.append(m)\n",
    "\n",
    "    match_rate = len(good_matches) / len(matches)\n",
    "\n",
    "    # Print count of good matches\n",
    "    # print(len(good_matches))\n",
    "\n",
    "    return good_matches, match_rate"
   ]
  },
  {
   "cell_type": "code",
   "execution_count": 4,
   "metadata": {},
   "outputs": [],
   "source": [
    "def recover_homography(keypoints1, keypoints2, good_matches):\n",
    "\n",
    "    # Robust Recovery of Homography using RANSAC\n",
    "    dst_left = np.float32([keypoints1[m.queryIdx].pt for m in good_matches]).reshape(-1, 1, 2)\n",
    "    dst_right = np.float32([keypoints2[m.trainIdx].pt for m in good_matches]).reshape(-1, 1, 2)\n",
    "\n",
    "    H, mask = cv2.findHomography(dst_left, dst_right, cv2.RANSAC, 5.0)\n",
    "    matches_mask = mask.ravel().tolist()\n",
    "\n",
    "    return H, mask, matches_mask"
   ]
  },
  {
   "cell_type": "code",
   "execution_count": 5,
   "metadata": {},
   "outputs": [],
   "source": [
    "def image_stitching(img_left, img_right, H):\n",
    "\n",
    "    # Image Stitching\n",
    "    result = cv2.warpPerspective(img_right,H,(img_left.shape[1] + img_right.shape[1], img_left.shape[0])) #wraped image\n",
    "    result[0:img_left.shape[0], 0:img_left.shape[1]] = img_left\n",
    "    \n",
    "    return result"
   ]
  },
  {
   "cell_type": "code",
   "execution_count": 11,
   "metadata": {},
   "outputs": [
    {
     "ename": "ValueError",
     "evalue": "too many values to unpack (expected 2)",
     "output_type": "error",
     "traceback": [
      "\u001b[1;31m---------------------------------------------------------------------------\u001b[0m",
      "\u001b[1;31mValueError\u001b[0m                                Traceback (most recent call last)",
      "\u001b[1;32md:\\NTU\\modules\\AI6121-CV\\Assignments\\AI6121_CV\\assignment_2\\assign_2.ipynb Cell 6\u001b[0m line \u001b[0;36m1\n\u001b[0;32m     <a href='vscode-notebook-cell:/d%3A/NTU/modules/AI6121-CV/Assignments/AI6121_CV/assignment_2/assign_2.ipynb#W5sZmlsZQ%3D%3D?line=13'>14</a>\u001b[0m     img_right \u001b[39m=\u001b[39m cv2\u001b[39m.\u001b[39mresize(img_right, (img_left\u001b[39m.\u001b[39mshape[\u001b[39m1\u001b[39m], img_left\u001b[39m.\u001b[39mshape[\u001b[39m0\u001b[39m]))\n\u001b[0;32m     <a href='vscode-notebook-cell:/d%3A/NTU/modules/AI6121-CV/Assignments/AI6121_CV/assignment_2/assign_2.ipynb#W5sZmlsZQ%3D%3D?line=15'>16</a>\u001b[0m keypoints1, keypoints2, descriptors1, descriptors2 \u001b[39m=\u001b[39m detect_features(img_left, img_right, mask\u001b[39m=\u001b[39m\u001b[39mFalse\u001b[39;00m, detector\u001b[39m=\u001b[39m\u001b[39m'\u001b[39m\u001b[39mSIFT\u001b[39m\u001b[39m'\u001b[39m)\n\u001b[1;32m---> <a href='vscode-notebook-cell:/d%3A/NTU/modules/AI6121-CV/Assignments/AI6121_CV/assignment_2/assign_2.ipynb#W5sZmlsZQ%3D%3D?line=16'>17</a>\u001b[0m good_matches, match_rate \u001b[39m=\u001b[39m match_features(descriptors1, descriptors2, threshold\u001b[39m=\u001b[39;49mthresholds[i])\n\u001b[0;32m     <a href='vscode-notebook-cell:/d%3A/NTU/modules/AI6121-CV/Assignments/AI6121_CV/assignment_2/assign_2.ipynb#W5sZmlsZQ%3D%3D?line=17'>18</a>\u001b[0m H, mask, matches_mask \u001b[39m=\u001b[39m recover_homography(keypoints1, keypoints2, good_matches)\n\u001b[0;32m     <a href='vscode-notebook-cell:/d%3A/NTU/modules/AI6121-CV/Assignments/AI6121_CV/assignment_2/assign_2.ipynb#W5sZmlsZQ%3D%3D?line=19'>20</a>\u001b[0m draw_params \u001b[39m=\u001b[39m \u001b[39mdict\u001b[39m(matchColor \u001b[39m=\u001b[39m (\u001b[39m0\u001b[39m,\u001b[39m255\u001b[39m,\u001b[39m0\u001b[39m), \u001b[39m# draw matches in green color\u001b[39;00m\n\u001b[0;32m     <a href='vscode-notebook-cell:/d%3A/NTU/modules/AI6121-CV/Assignments/AI6121_CV/assignment_2/assign_2.ipynb#W5sZmlsZQ%3D%3D?line=20'>21</a>\u001b[0m                    singlePointColor \u001b[39m=\u001b[39m \u001b[39mNone\u001b[39;00m,\n\u001b[0;32m     <a href='vscode-notebook-cell:/d%3A/NTU/modules/AI6121-CV/Assignments/AI6121_CV/assignment_2/assign_2.ipynb#W5sZmlsZQ%3D%3D?line=21'>22</a>\u001b[0m                    matchesMask \u001b[39m=\u001b[39m matches_mask, \u001b[39m# draw only inliers\u001b[39;00m\n\u001b[0;32m     <a href='vscode-notebook-cell:/d%3A/NTU/modules/AI6121-CV/Assignments/AI6121_CV/assignment_2/assign_2.ipynb#W5sZmlsZQ%3D%3D?line=22'>23</a>\u001b[0m                    flags \u001b[39m=\u001b[39m \u001b[39m2\u001b[39m)\n",
      "\u001b[1;32md:\\NTU\\modules\\AI6121-CV\\Assignments\\AI6121_CV\\assignment_2\\assign_2.ipynb Cell 6\u001b[0m line \u001b[0;36m1\n\u001b[0;32m      <a href='vscode-notebook-cell:/d%3A/NTU/modules/AI6121-CV/Assignments/AI6121_CV/assignment_2/assign_2.ipynb#W5sZmlsZQ%3D%3D?line=6'>7</a>\u001b[0m \u001b[39m# define the minimum count of matches\u001b[39;00m\n\u001b[0;32m      <a href='vscode-notebook-cell:/d%3A/NTU/modules/AI6121-CV/Assignments/AI6121_CV/assignment_2/assign_2.ipynb#W5sZmlsZQ%3D%3D?line=7'>8</a>\u001b[0m \u001b[39m# MIN_MATCH_COUNT = 10\u001b[39;00m\n\u001b[0;32m      <a href='vscode-notebook-cell:/d%3A/NTU/modules/AI6121-CV/Assignments/AI6121_CV/assignment_2/assign_2.ipynb#W5sZmlsZQ%3D%3D?line=8'>9</a>\u001b[0m \n\u001b[0;32m     <a href='vscode-notebook-cell:/d%3A/NTU/modules/AI6121-CV/Assignments/AI6121_CV/assignment_2/assign_2.ipynb#W5sZmlsZQ%3D%3D?line=9'>10</a>\u001b[0m \u001b[39m# Apply Lowe's ratio test to select good matches\u001b[39;00m\n\u001b[0;32m     <a href='vscode-notebook-cell:/d%3A/NTU/modules/AI6121-CV/Assignments/AI6121_CV/assignment_2/assign_2.ipynb#W5sZmlsZQ%3D%3D?line=10'>11</a>\u001b[0m good_matches \u001b[39m=\u001b[39m []\n\u001b[1;32m---> <a href='vscode-notebook-cell:/d%3A/NTU/modules/AI6121-CV/Assignments/AI6121_CV/assignment_2/assign_2.ipynb#W5sZmlsZQ%3D%3D?line=11'>12</a>\u001b[0m \u001b[39mfor\u001b[39;00m m, n \u001b[39min\u001b[39;00m matches:\n\u001b[0;32m     <a href='vscode-notebook-cell:/d%3A/NTU/modules/AI6121-CV/Assignments/AI6121_CV/assignment_2/assign_2.ipynb#W5sZmlsZQ%3D%3D?line=12'>13</a>\u001b[0m     \u001b[39mif\u001b[39;00m m\u001b[39m.\u001b[39mdistance \u001b[39m<\u001b[39m threshold \u001b[39m*\u001b[39m n\u001b[39m.\u001b[39mdistance:\n\u001b[0;32m     <a href='vscode-notebook-cell:/d%3A/NTU/modules/AI6121-CV/Assignments/AI6121_CV/assignment_2/assign_2.ipynb#W5sZmlsZQ%3D%3D?line=13'>14</a>\u001b[0m         good_matches\u001b[39m.\u001b[39mappend(m)\n",
      "\u001b[1;31mValueError\u001b[0m: too many values to unpack (expected 2)"
     ]
    }
   ],
   "source": [
    "# load \n",
    "base_path = 'image_pairs/'\n",
    "img_left_list = ['image_pairs_01_01.jpg', 'image_pairs_02_02.png', 'image_pairs_03_01.jpg', 'image_pairs_04_01.jpg']\n",
    "img_right_list = ['image_pairs_01_02.jpg', 'image_pairs_02_01.png', 'image_pairs_03_02.jpg', 'image_pairs_04_02.jpg']\n",
    "thresholds = [0.9, 0.9, 0.9, 0.9]\n",
    "# 0.1, 0.2, 0.3, 0.4, 0.5, 0.6, 0.7, 0.8, 0.9, 1\n",
    "# time.time()\n",
    "\n",
    "for i in range(0, len(img_left_list)):\n",
    "    img_left = cv2.imread(base_path + img_left_list[i])\n",
    "    img_right = cv2.imread(base_path + img_right_list[i])\n",
    "\n",
    "    if not img_left.shape == img_right.shape:\n",
    "        img_right = cv2.resize(img_right, (img_left.shape[1], img_left.shape[0]))\n",
    "\n",
    "    keypoints1, keypoints2, descriptors1, descriptors2 = detect_features(img_left, img_right, mask=False, detector='SIFT')\n",
    "    good_matches, match_rate = match_features(descriptors1, descriptors2, threshold=thresholds[i])\n",
    "    H, mask, matches_mask = recover_homography(keypoints1, keypoints2, good_matches)\n",
    "\n",
    "    draw_params = dict(matchColor = (0,255,0), # draw matches in green color\n",
    "                       singlePointColor = None,\n",
    "                       matchesMask = matches_mask, # draw only inliers\n",
    "                       flags = 2)\n",
    "    \n",
    "    mask_img = cv2.drawMatches(img_left, keypoints1, img_right, keypoints2, good_matches, None, **draw_params)\n",
    "    plt.imshow(cv2.cvtColor(mask_img, cv2.COLOR_BGR2RGB))\n",
    "    plt.title(\"match rate: {:.4f}\".format(match_rate))\n",
    "    plt.show()\n",
    "\n",
    "    result = image_stitching(img_left, img_right, H)\n",
    "\n",
    "    '''plt.figure(figsize=(10, 5), dpi=300)\n",
    "    plt.subplot(1, 3, 1)\n",
    "    plt.title('(a) original image 01')\n",
    "    plt.imshow(cv2.cvtColor(img_left, cv2.COLOR_BGR2RGB))\n",
    "    plt.subplot(1, 3, 2)\n",
    "    plt.title('(b) original image 02')\n",
    "    plt.imshow(cv2.cvtColor(img_right, cv2.COLOR_BGR2RGB))\n",
    "    plt.subplot(1, 3, 3)\n",
    "    plt.title('(c) panorama image')\n",
    "    plt.imshow(cv2.cvtColor(result, cv2.COLOR_BGR2RGB))'''"
   ]
  }
 ],
 "metadata": {
  "kernelspec": {
   "display_name": "Python 3.9.12 ('cv')",
   "language": "python",
   "name": "python3"
  },
  "language_info": {
   "codemirror_mode": {
    "name": "ipython",
    "version": 3
   },
   "file_extension": ".py",
   "mimetype": "text/x-python",
   "name": "python",
   "nbconvert_exporter": "python",
   "pygments_lexer": "ipython3",
   "version": "3.9.0"
  },
  "orig_nbformat": 4,
  "vscode": {
   "interpreter": {
    "hash": "16038e196b9b867d0cf377c0d927579517475c94e5922923b50d4467bf994152"
   }
  }
 },
 "nbformat": 4,
 "nbformat_minor": 2
}
