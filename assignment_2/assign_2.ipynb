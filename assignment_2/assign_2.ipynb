{
 "cells": [
  {
   "cell_type": "code",
   "execution_count": 1,
   "metadata": {},
   "outputs": [],
   "source": [
    "import cv2\n",
    "import numpy as np\n",
    "import matplotlib.pyplot as plt"
   ]
  },
  {
   "cell_type": "code",
   "execution_count": 2,
   "metadata": {},
   "outputs": [],
   "source": [
    "def detect_features(img1, img2, mask=False, detector='SIFT'):\n",
    "\n",
    "    gray1 = cv2.cvtColor(img1, cv2.COLOR_BGR2GRAY)\n",
    "    gray2 = cv2.cvtColor(img2, cv2.COLOR_BGR2GRAY)\n",
    "\n",
    "    # Compute Mask\n",
    "    if mask:\n",
    "        # Harris Corner Detector\n",
    "        harris_parameters = dict(\n",
    "            blockSize=2,\n",
    "            ksize=3,\n",
    "            k=0.04\n",
    "        )\n",
    "\n",
    "        corners1 = cv2.cornerHarris(gray1, **harris_parameters)\n",
    "        corners2 = cv2.cornerHarris(gray2, **harris_parameters)\n",
    "\n",
    "        # Perform non-maximal suppression on the corners\n",
    "        threshold = 0.01 * corners1.max()\n",
    "        corner_mask1 = (corners1 > threshold).astype(np.uint8)\n",
    "        corner_mask2 = (corners2 > threshold).astype(np.uint8)\n",
    "    else:\n",
    "        corner_mask1, corner_mask2 = None, None\n",
    "\n",
    "    # Feature Detection and Matching\n",
    "    sift = cv2.SIFT_create()\n",
    "    \n",
    "    if detector=='SIFT':\n",
    "        keypoints1, descriptors1 = sift.detectAndCompute(gray1, corner_mask1)\n",
    "        keypoints2, descriptors2 = sift.detectAndCompute(gray2, corner_mask2)\n",
    "    elif detector=='ORB':\n",
    "        orb = cv2.ORB_create()\n",
    "        keypoints1 = orb.detect(gray1, corner_mask1)\n",
    "        keypoints2 = orb.detect(gray2, corner_mask1)\n",
    "\n",
    "        keypoints1, descriptors1 = sift.compute(gray1, keypoints1)\n",
    "        keypoints2, descriptors2 = sift.compute(gray2, keypoints2)\n",
    "    else:\n",
    "        print(\"detector not implemented!\")\n",
    "        exit()\n",
    "\n",
    "    return keypoints1, keypoints2, descriptors1, descriptors2\n"
   ]
  },
  {
   "cell_type": "code",
   "execution_count": 3,
   "metadata": {},
   "outputs": [],
   "source": [
    "def match_features(descriptors1, descriptors2, threshold=0.5):\n",
    "\n",
    "    # Feature Matching\n",
    "    bf = cv2.BFMatcher()\n",
    "    matches = bf.knnMatch(descriptors1, descriptors2, k=2)\n",
    "\n",
    "    # define the minimum count of matches\n",
    "    # MIN_MATCH_COUNT = 10\n",
    "    \n",
    "    # Apply Lowe's ratio test to select good matches\n",
    "    good_matches = []\n",
    "    for m, n in matches:\n",
    "        if m.distance < threshold * n.distance:\n",
    "            good_matches.append(m)\n",
    "\n",
    "    # Print count of good matches\n",
    "    # print(len(good_matches))\n",
    "\n",
    "    return good_matches"
   ]
  },
  {
   "cell_type": "code",
   "execution_count": 4,
   "metadata": {},
   "outputs": [],
   "source": [
    "def recover_homography(keypoints1, keypoints2, good_matches):\n",
    "\n",
    "    # Robust Recovery of Homography using RANSAC\n",
    "    dst_left = np.float32([keypoints1[m.queryIdx].pt for m in good_matches]).reshape(-1, 1, 2)\n",
    "    dst_right = np.float32([keypoints2[m.trainIdx].pt for m in good_matches]).reshape(-1, 1, 2)\n",
    "\n",
    "    H, mask = cv2.findHomography(dst_left, dst_right, cv2.RANSAC, 5.0)\n",
    "    matches_mask = mask.ravel().tolist()\n",
    "\n",
    "    return H, mask, matches_mask"
   ]
  },
  {
   "cell_type": "code",
   "execution_count": 5,
   "metadata": {},
   "outputs": [],
   "source": [
    "def image_stitching(img_left, img_right, H):\n",
    "\n",
    "    # Image Stitching\n",
    "    result = cv2.warpPerspective(img_right,H,(img_left.shape[1] + img_right.shape[1], img_left.shape[0])) #wraped image\n",
    "    result[0:img_left.shape[0], 0:img_left.shape[1]] = img_left\n",
    "    \n",
    "    return result"
   ]
  },
  {
   "cell_type": "code",
   "execution_count": 6,
   "metadata": {},
   "outputs": [
    {
     "ename": "",
     "evalue": "",
     "output_type": "error",
     "traceback": [
      "\u001b[1;31mThe Kernel crashed while executing code in the the current cell or a previous cell. Please review the code in the cell(s) to identify a possible cause of the failure. Click <a href='https://aka.ms/vscodeJupyterKernelCrash'>here</a> for more info. View Jupyter <a href='command:jupyter.viewOutput'>log</a> for further details."
     ]
    }
   ],
   "source": [
    "# load \n",
    "base_path = 'image_pairs/'\n",
    "img_left_list = ['image_pairs_01_01.jpg', 'image_pairs_02_02.png', 'image_pairs_03_01.jpg', 'image_pairs_04_01.jpg']\n",
    "img_right_list = ['image_pairs_01_02.jpg', 'image_pairs_02_01.png', 'image_pairs_03_02.jpg', 'image_pairs_04_02.jpg']\n",
    "\n",
    "for i in range(0, len(img_left_list)):\n",
    "    img_left = cv2.imread(base_path + img_left_list[i])\n",
    "    img_right = cv2.imread(base_path + img_right_list[i])\n",
    "\n",
    "    if not img_left.shape == img_right.shape:\n",
    "        img_right = cv2.resize(img_right, (img_left.shape[1], img_left.shape[0]))\n",
    "\n",
    "    keypoints1, keypoints2, descriptors1, descriptors2 = detect_features(img_left, img_right, mask=False, detector='ORB')\n",
    "    good_matches = match_features(descriptors1, descriptors2)\n",
    "    H, mask, matches_mask = recover_homography(keypoints1, keypoints2, good_matches)\n",
    "\n",
    "    draw_params = dict(matchColor = (0,255,0), # draw matches in green color\n",
    "                       singlePointColor = None,\n",
    "                       matchesMask = matches_mask, # draw only inliers\n",
    "                       flags = 2)\n",
    "    \n",
    "    mask_img = cv2.drawMatches(img_left, keypoints1, img_right, keypoints2, good_matches, None, **draw_params)\n",
    "    plt.imshow(cv2.cvtColor(mask_img, cv2.COLOR_BGR2RGB)),\n",
    "    plt.show()\n",
    "\n",
    "    result = image_stitching(img_left, img_right, H)\n",
    "\n",
    "    '''plt.figure(figsize=(10, 5), dpi=300)\n",
    "    plt.subplot(1, 3, 1)\n",
    "    plt.title('(a) original image 01')\n",
    "    plt.imshow(cv2.cvtColor(img_left, cv2.COLOR_BGR2RGB))\n",
    "    plt.subplot(1, 3, 2)\n",
    "    plt.title('(b) original image 02')\n",
    "    plt.imshow(cv2.cvtColor(img_right, cv2.COLOR_BGR2RGB))\n",
    "    plt.subplot(1, 3, 3)\n",
    "    plt.title('(c) panorama image')\n",
    "    plt.imshow(cv2.cvtColor(result, cv2.COLOR_BGR2RGB))'''"
   ]
  }
 ],
 "metadata": {
  "kernelspec": {
   "display_name": "Python 3.9.12 ('cv')",
   "language": "python",
   "name": "python3"
  },
  "language_info": {
   "codemirror_mode": {
    "name": "ipython",
    "version": 3
   },
   "file_extension": ".py",
   "mimetype": "text/x-python",
   "name": "python",
   "nbconvert_exporter": "python",
   "pygments_lexer": "ipython3",
   "version": "3.9.16"
  },
  "orig_nbformat": 4,
  "vscode": {
   "interpreter": {
    "hash": "16038e196b9b867d0cf377c0d927579517475c94e5922923b50d4467bf994152"
   }
  }
 },
 "nbformat": 4,
 "nbformat_minor": 2
}
