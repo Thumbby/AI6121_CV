{
 "cells": [
  {
   "cell_type": "code",
   "execution_count": 1,
   "metadata": {},
   "outputs": [],
   "source": [
    "import cv2\n",
    "import numpy as np\n",
    "import matplotlib.pyplot as plt"
   ]
  },
  {
   "cell_type": "code",
   "execution_count": 2,
   "metadata": {},
   "outputs": [],
   "source": [
    "def detect_features(img1, img2, algorithm='SIFT'):\n",
    "\n",
    "    gray1 = cv2.cvtColor(img1, cv2.COLOR_BGR2GRAY)\n",
    "    gray2 = cv2.cvtColor(img2, cv2.COLOR_BGR2GRAY)\n",
    "\n",
    "    # Feature Detection and Matching\n",
    "    sift = cv2.SIFT_create()\n",
    "    \n",
    "    if algorithm=='SIFT':\n",
    "        keypoints1, descriptors1 = sift.detectAndCompute(gray1, None)\n",
    "        keypoints2, descriptors2 = sift.detectAndCompute(gray2, None)\n",
    "        \n",
    "    elif algorithm=='ORB':\n",
    "        orb = cv2.ORB_create()\n",
    "        keypoints1 = orb.detect(gray1, None)\n",
    "        keypoints2 = orb.detect(gray2, None)\n",
    "\n",
    "        keypoints1, descriptors1 = sift.compute(gray1, keypoints1, None)\n",
    "        keypoints2, descriptors2 = sift.compute(gray2, keypoints2, None)\n",
    "    \n",
    "    else:\n",
    "        print(\"detector not implemented!\")\n",
    "        exit()\n",
    "\n",
    "    return keypoints1, keypoints2, descriptors1, descriptors2\n"
   ]
  },
  {
   "cell_type": "code",
   "execution_count": 12,
   "metadata": {},
   "outputs": [],
   "source": [
    "def match_features(descriptors1, descriptors2, threshold=0.5):\n",
    "\n",
    "    # Feature Matching\n",
    "    bf = cv2.BFMatcher()\n",
    "    matches = bf.knnMatch(descriptors1, descriptors2, k=2)\n",
    "\n",
    "    # define the minimum count of matches\n",
    "    # MIN_MATCH_COUNT = 10\n",
    "    \n",
    "    # Apply Lowe's ratio test to select good matches\n",
    "    good_matches = []\n",
    "    for m, n in matches:\n",
    "        if m.distance < threshold * n.distance:\n",
    "            good_matches.append(m)\n",
    "\n",
    "    match_rate = len(good_matches) / len(matches)\n",
    "\n",
    "    # Print count of good matches\n",
    "    # print(len(good_matches))\n",
    "\n",
    "    return good_matches, match_rate"
   ]
  },
  {
   "cell_type": "code",
   "execution_count": 4,
   "metadata": {},
   "outputs": [],
   "source": [
    "def recover_homography(keypoints1, keypoints2, good_matches):\n",
    "\n",
    "    # Robust Recovery of Homography using RANSAC\n",
    "    dst_left = np.float32([keypoints1[m.queryIdx].pt for m in good_matches]).reshape(-1, 1, 2)\n",
    "    dst_right = np.float32([keypoints2[m.trainIdx].pt for m in good_matches]).reshape(-1, 1, 2)\n",
    "\n",
    "    H, mask = cv2.findHomography(dst_left, dst_right, cv2.RANSAC, 5.0)\n",
    "    matches_mask = mask.ravel().tolist()\n",
    "\n",
    "    return H, mask, matches_mask"
   ]
  },
  {
   "cell_type": "code",
   "execution_count": 5,
   "metadata": {},
   "outputs": [],
   "source": [
    "def image_stitching(img_left, img_right, H):\n",
    "\n",
    "    # Image Stitching\n",
    "    # Normalize images to avoid noise.\n",
    "    img_left = cv2.normalize(img_left.astype('float'), None, \n",
    "                            0.0, 1.0, cv2.NORM_MINMAX)   \n",
    "    img_right = cv2.normalize(img_right.astype('float'), None, \n",
    "                            0.0, 1.0, cv2.NORM_MINMAX)   \n",
    "    \n",
    "    # left image\n",
    "    height_l, width_l, _ = img_left.shape\n",
    "    corners = [[0, 0, 1], [width_l, 0, 1], [width_l, height_l, 1], [0, height_l, 1]]\n",
    "    corners_new = [np.dot(H, corner) for corner in corners]\n",
    "    corners_new = np.array(corners_new).T \n",
    "    x_news = corners_new[0] / corners_new[2]\n",
    "    y_news = corners_new[1] / corners_new[2]\n",
    "    y_min = min(y_news)\n",
    "    x_min = min(x_news)\n",
    "\n",
    "    translation_mat = np.array([[1, 0, -x_min], [0, 1, -y_min], [0, 0, 1]])\n",
    "    H = np.dot(translation_mat, H)\n",
    "    \n",
    "    # Get height, width\n",
    "    height_new = int(round(abs(y_min) + height_l))\n",
    "    width_new = int(round(abs(x_min) + width_l))\n",
    "    dsize = (width_new, height_new)\n",
    "\n",
    "    warped_l = cv2.warpPerspective(img_left, H, dsize)\n",
    "\n",
    "\n",
    "    # right image\n",
    "\n",
    "    height_r, width_r, _ = img_right.shape\n",
    "    \n",
    "    height_new = int(round(abs(y_min) + height_r))\n",
    "    width_new = int(round(abs(x_min) + width_r))\n",
    "    dsize = (width_new, height_new)\n",
    "    \n",
    "\n",
    "    warped_r = cv2.warpPerspective(img_right, translation_mat, dsize)\n",
    "     \n",
    "    pixel_black = [0, 0, 0]  # Black pixel.\n",
    "    \n",
    "    # Stitching procedure, store results in warped_l.\n",
    "    for i in range(warped_r.shape[0]):\n",
    "        for j in range(warped_r.shape[1]):\n",
    "            pixel_l = warped_l[i, j, :]\n",
    "            pixel_r = warped_r[i, j, :]\n",
    "            \n",
    "            if not np.array_equal(pixel_l, pixel_black) and np.array_equal(pixel_r, pixel_black):\n",
    "                warped_l[i, j, :] = pixel_l\n",
    "            elif np.array_equal(pixel_l, pixel_black) and not np.array_equal(pixel_r, pixel_black):\n",
    "                warped_l[i, j, :] = pixel_r\n",
    "            elif not np.array_equal(pixel_l, pixel_black) and not np.array_equal(pixel_r, pixel_black):\n",
    "                warped_l[i, j, :] = (pixel_l + pixel_r) / 2\n",
    "            else:\n",
    "                pass\n",
    "                  \n",
    "    stitch_image = warped_l[:warped_r.shape[0], :warped_r.shape[1], :]\n",
    "    return stitch_image"
   ]
  },
  {
   "cell_type": "code",
   "execution_count": null,
   "metadata": {},
   "outputs": [],
   "source": [
    "def experiment(img_left, img_right, threshold, algorithm):\n",
    "    if not img_left.shape == img_right.shape:\n",
    "        img_right = cv2.resize(img_right, (img_left.shape[1], img_left.shape[0]))\n",
    "\n",
    "    keypoints1, keypoints2, descriptors1, descriptors2 = detect_features(img_left, img_right, mask=False, algorithm=algorithm)\n",
    "    good_matches, match_rate = match_features(descriptors1, descriptors2, threshold=threshold)\n",
    "    H, mask, matches_mask = recover_homography(keypoints1, keypoints2, good_matches)\n",
    "\n",
    "    draw_params = dict(matchColor = (0,255,0), # draw matches in green color\n",
    "                       singlePointColor = None,\n",
    "                       matchesMask = matches_mask, # draw only inliers\n",
    "                       flags = 2)\n",
    "    \n",
    "    mask_img = cv2.drawMatches(img_left, keypoints1, img_right, keypoints2, good_matches, None, **draw_params)\n",
    "\n",
    "    result = image_stitching(img_left, img_right, H)\n",
    "\n",
    "    plt.figure(figsize=(20, 10), dpi=300)\n",
    "    plt.subplot(1, 2, 1)\n",
    "    plt.title('(a) panorama image')\n",
    "    plt.imshow(result)\n",
    "    plt.subplot(1, 2, 2)\n",
    "    plt.imshow(cv2.cvtColor(mask_img, cv2.COLOR_BGR2RGB))\n",
    "    plt.title('(b) matched image (match rate:{:.4f})'.format(match_rate))\n",
    "    plt.show()"
   ]
  },
  {
   "cell_type": "code",
   "execution_count": 11,
   "metadata": {},
   "outputs": [
    {
     "ename": "ValueError",
     "evalue": "too many values to unpack (expected 2)",
     "output_type": "error",
     "traceback": [
      "\u001b[1;31m---------------------------------------------------------------------------\u001b[0m",
      "\u001b[1;31mValueError\u001b[0m                                Traceback (most recent call last)",
      "\u001b[1;32md:\\NTU\\modules\\AI6121-CV\\Assignments\\AI6121_CV\\assignment_2\\assign_2.ipynb Cell 6\u001b[0m line \u001b[0;36m1\n\u001b[0;32m     <a href='vscode-notebook-cell:/d%3A/NTU/modules/AI6121-CV/Assignments/AI6121_CV/assignment_2/assign_2.ipynb#W5sZmlsZQ%3D%3D?line=13'>14</a>\u001b[0m     img_right \u001b[39m=\u001b[39m cv2\u001b[39m.\u001b[39mresize(img_right, (img_left\u001b[39m.\u001b[39mshape[\u001b[39m1\u001b[39m], img_left\u001b[39m.\u001b[39mshape[\u001b[39m0\u001b[39m]))\n\u001b[0;32m     <a href='vscode-notebook-cell:/d%3A/NTU/modules/AI6121-CV/Assignments/AI6121_CV/assignment_2/assign_2.ipynb#W5sZmlsZQ%3D%3D?line=15'>16</a>\u001b[0m keypoints1, keypoints2, descriptors1, descriptors2 \u001b[39m=\u001b[39m detect_features(img_left, img_right, mask\u001b[39m=\u001b[39m\u001b[39mFalse\u001b[39;00m, detector\u001b[39m=\u001b[39m\u001b[39m'\u001b[39m\u001b[39mSIFT\u001b[39m\u001b[39m'\u001b[39m)\n\u001b[1;32m---> <a href='vscode-notebook-cell:/d%3A/NTU/modules/AI6121-CV/Assignments/AI6121_CV/assignment_2/assign_2.ipynb#W5sZmlsZQ%3D%3D?line=16'>17</a>\u001b[0m good_matches, match_rate \u001b[39m=\u001b[39m match_features(descriptors1, descriptors2, threshold\u001b[39m=\u001b[39;49mthresholds[i])\n\u001b[0;32m     <a href='vscode-notebook-cell:/d%3A/NTU/modules/AI6121-CV/Assignments/AI6121_CV/assignment_2/assign_2.ipynb#W5sZmlsZQ%3D%3D?line=17'>18</a>\u001b[0m H, mask, matches_mask \u001b[39m=\u001b[39m recover_homography(keypoints1, keypoints2, good_matches)\n\u001b[0;32m     <a href='vscode-notebook-cell:/d%3A/NTU/modules/AI6121-CV/Assignments/AI6121_CV/assignment_2/assign_2.ipynb#W5sZmlsZQ%3D%3D?line=19'>20</a>\u001b[0m draw_params \u001b[39m=\u001b[39m \u001b[39mdict\u001b[39m(matchColor \u001b[39m=\u001b[39m (\u001b[39m0\u001b[39m,\u001b[39m255\u001b[39m,\u001b[39m0\u001b[39m), \u001b[39m# draw matches in green color\u001b[39;00m\n\u001b[0;32m     <a href='vscode-notebook-cell:/d%3A/NTU/modules/AI6121-CV/Assignments/AI6121_CV/assignment_2/assign_2.ipynb#W5sZmlsZQ%3D%3D?line=20'>21</a>\u001b[0m                    singlePointColor \u001b[39m=\u001b[39m \u001b[39mNone\u001b[39;00m,\n\u001b[0;32m     <a href='vscode-notebook-cell:/d%3A/NTU/modules/AI6121-CV/Assignments/AI6121_CV/assignment_2/assign_2.ipynb#W5sZmlsZQ%3D%3D?line=21'>22</a>\u001b[0m                    matchesMask \u001b[39m=\u001b[39m matches_mask, \u001b[39m# draw only inliers\u001b[39;00m\n\u001b[0;32m     <a href='vscode-notebook-cell:/d%3A/NTU/modules/AI6121-CV/Assignments/AI6121_CV/assignment_2/assign_2.ipynb#W5sZmlsZQ%3D%3D?line=22'>23</a>\u001b[0m                    flags \u001b[39m=\u001b[39m \u001b[39m2\u001b[39m)\n",
      "\u001b[1;32md:\\NTU\\modules\\AI6121-CV\\Assignments\\AI6121_CV\\assignment_2\\assign_2.ipynb Cell 6\u001b[0m line \u001b[0;36m1\n\u001b[0;32m      <a href='vscode-notebook-cell:/d%3A/NTU/modules/AI6121-CV/Assignments/AI6121_CV/assignment_2/assign_2.ipynb#W5sZmlsZQ%3D%3D?line=6'>7</a>\u001b[0m \u001b[39m# define the minimum count of matches\u001b[39;00m\n\u001b[0;32m      <a href='vscode-notebook-cell:/d%3A/NTU/modules/AI6121-CV/Assignments/AI6121_CV/assignment_2/assign_2.ipynb#W5sZmlsZQ%3D%3D?line=7'>8</a>\u001b[0m \u001b[39m# MIN_MATCH_COUNT = 10\u001b[39;00m\n\u001b[0;32m      <a href='vscode-notebook-cell:/d%3A/NTU/modules/AI6121-CV/Assignments/AI6121_CV/assignment_2/assign_2.ipynb#W5sZmlsZQ%3D%3D?line=8'>9</a>\u001b[0m \n\u001b[0;32m     <a href='vscode-notebook-cell:/d%3A/NTU/modules/AI6121-CV/Assignments/AI6121_CV/assignment_2/assign_2.ipynb#W5sZmlsZQ%3D%3D?line=9'>10</a>\u001b[0m \u001b[39m# Apply Lowe's ratio test to select good matches\u001b[39;00m\n\u001b[0;32m     <a href='vscode-notebook-cell:/d%3A/NTU/modules/AI6121-CV/Assignments/AI6121_CV/assignment_2/assign_2.ipynb#W5sZmlsZQ%3D%3D?line=10'>11</a>\u001b[0m good_matches \u001b[39m=\u001b[39m []\n\u001b[1;32m---> <a href='vscode-notebook-cell:/d%3A/NTU/modules/AI6121-CV/Assignments/AI6121_CV/assignment_2/assign_2.ipynb#W5sZmlsZQ%3D%3D?line=11'>12</a>\u001b[0m \u001b[39mfor\u001b[39;00m m, n \u001b[39min\u001b[39;00m matches:\n\u001b[0;32m     <a href='vscode-notebook-cell:/d%3A/NTU/modules/AI6121-CV/Assignments/AI6121_CV/assignment_2/assign_2.ipynb#W5sZmlsZQ%3D%3D?line=12'>13</a>\u001b[0m     \u001b[39mif\u001b[39;00m m\u001b[39m.\u001b[39mdistance \u001b[39m<\u001b[39m threshold \u001b[39m*\u001b[39m n\u001b[39m.\u001b[39mdistance:\n\u001b[0;32m     <a href='vscode-notebook-cell:/d%3A/NTU/modules/AI6121-CV/Assignments/AI6121_CV/assignment_2/assign_2.ipynb#W5sZmlsZQ%3D%3D?line=13'>14</a>\u001b[0m         good_matches\u001b[39m.\u001b[39mappend(m)\n",
      "\u001b[1;31mValueError\u001b[0m: too many values to unpack (expected 2)"
     ]
    }
   ],
   "source": [
    "# load \n",
    "base_path = 'image_pairs/'\n",
    "img_left_list = ['image_pairs_01_01.jpg', 'image_pairs_02_02.png', 'image_pairs_03_01.jpg', 'image_pairs_04_01.jpg']\n",
    "img_right_list = ['image_pairs_01_02.jpg', 'image_pairs_02_01.png', 'image_pairs_03_02.jpg', 'image_pairs_04_02.jpg']\n",
    "thresholds = [0.1, 0.2, 0.3, 0.4, 0.5, 0.6, 0.7, 0.8, 0.9, 1]\n",
    "\n",
    "for i in range(0, len(img_left_list)):\n",
    "    img_left = cv2.imread(base_path + img_left_list[i])\n",
    "    img_right = cv2.imread(base_path + img_right_list[i])\n",
    "\n",
    "    for threshold in thresholds:\n",
    "\n",
    "        try:\n",
    "        \n",
    "        \n"
   ]
  }
 ],
 "metadata": {
  "kernelspec": {
   "display_name": "Python 3.9.12 ('cv')",
   "language": "python",
   "name": "python3"
  },
  "language_info": {
   "codemirror_mode": {
    "name": "ipython",
    "version": 3
   },
   "file_extension": ".py",
   "mimetype": "text/x-python",
   "name": "python",
   "nbconvert_exporter": "python",
   "pygments_lexer": "ipython3",
   "version": "3.9.12"
  },
  "orig_nbformat": 4,
  "vscode": {
   "interpreter": {
    "hash": "16038e196b9b867d0cf377c0d927579517475c94e5922923b50d4467bf994152"
   }
  }
 },
 "nbformat": 4,
 "nbformat_minor": 2
}
